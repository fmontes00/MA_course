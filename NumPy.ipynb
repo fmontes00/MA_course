{
 "cells": [
  {
   "cell_type": "code",
   "execution_count": 19,
   "id": "fdefd957",
   "metadata": {},
   "outputs": [],
   "source": [
    "import numpy as np"
   ]
  },
  {
   "cell_type": "code",
   "execution_count": 20,
   "id": "5635daea",
   "metadata": {},
   "outputs": [
    {
     "data": {
      "text/plain": [
       "array([1, 2, 3])"
      ]
     },
     "execution_count": 20,
     "metadata": {},
     "output_type": "execute_result"
    }
   ],
   "source": [
    "a1 = np.array([1,2,3])\n",
    "a1"
   ]
  },
  {
   "cell_type": "code",
   "execution_count": 21,
   "id": "3e50e882",
   "metadata": {},
   "outputs": [
    {
     "data": {
      "text/plain": [
       "array([[1, 2, 3],\n",
       "       [4, 5, 6]])"
      ]
     },
     "execution_count": 21,
     "metadata": {},
     "output_type": "execute_result"
    }
   ],
   "source": [
    "a2 = np.array([[1,2,3],[4,5,6]])\n",
    "a2"
   ]
  },
  {
   "cell_type": "code",
   "execution_count": 22,
   "id": "26eabe4b",
   "metadata": {},
   "outputs": [
    {
     "data": {
      "text/plain": [
       "array([[[ 1,  2,  3],\n",
       "        [ 4,  5,  6],\n",
       "        [ 7,  8,  9]],\n",
       "\n",
       "       [[10, 11, 12],\n",
       "        [13, 14, 15],\n",
       "        [16, 17, 18]]])"
      ]
     },
     "execution_count": 22,
     "metadata": {},
     "output_type": "execute_result"
    }
   ],
   "source": [
    "a3 = np.array([\n",
    "    [\n",
    "        [1,2,3],\n",
    "        [4,5,6],\n",
    "        [7,8,9]],\n",
    "    [[10,11,12],\n",
    "    [13,14,15],\n",
    "    [16,17,18]]\n",
    "    ])\n",
    "\n",
    "\n",
    "a3"
   ]
  },
  {
   "cell_type": "code",
   "execution_count": 23,
   "id": "4a43733e",
   "metadata": {},
   "outputs": [
    {
     "data": {
      "text/html": [
       "<div>\n",
       "<style scoped>\n",
       "    .dataframe tbody tr th:only-of-type {\n",
       "        vertical-align: middle;\n",
       "    }\n",
       "\n",
       "    .dataframe tbody tr th {\n",
       "        vertical-align: top;\n",
       "    }\n",
       "\n",
       "    .dataframe thead th {\n",
       "        text-align: right;\n",
       "    }\n",
       "</style>\n",
       "<table border=\"1\" class=\"dataframe\">\n",
       "  <thead>\n",
       "    <tr style=\"text-align: right;\">\n",
       "      <th></th>\n",
       "      <th>0</th>\n",
       "      <th>1</th>\n",
       "      <th>2</th>\n",
       "    </tr>\n",
       "  </thead>\n",
       "  <tbody>\n",
       "    <tr>\n",
       "      <th>0</th>\n",
       "      <td>1</td>\n",
       "      <td>2</td>\n",
       "      <td>3</td>\n",
       "    </tr>\n",
       "    <tr>\n",
       "      <th>1</th>\n",
       "      <td>4</td>\n",
       "      <td>5</td>\n",
       "      <td>6</td>\n",
       "    </tr>\n",
       "  </tbody>\n",
       "</table>\n",
       "</div>"
      ],
      "text/plain": [
       "   0  1  2\n",
       "0  1  2  3\n",
       "1  4  5  6"
      ]
     },
     "execution_count": 23,
     "metadata": {},
     "output_type": "execute_result"
    }
   ],
   "source": [
    "import pandas as pd\n",
    "\n",
    "df = pd.DataFrame(a2)\n",
    "df"
   ]
  },
  {
   "cell_type": "code",
   "execution_count": 24,
   "id": "aefa86c1",
   "metadata": {},
   "outputs": [
    {
     "data": {
      "text/plain": [
       "array([[1., 1., 1.],\n",
       "       [1., 1., 1.]])"
      ]
     },
     "execution_count": 24,
     "metadata": {},
     "output_type": "execute_result"
    }
   ],
   "source": [
    "ones= np.ones((2,3)) # fills the array with variations of ones\n",
    "ones"
   ]
  },
  {
   "cell_type": "code",
   "execution_count": 25,
   "id": "9bfa93a6",
   "metadata": {},
   "outputs": [
    {
     "data": {
      "text/plain": [
       "array([[0., 0., 0.],\n",
       "       [0., 0., 0.]])"
      ]
     },
     "execution_count": 25,
     "metadata": {},
     "output_type": "execute_result"
    }
   ],
   "source": [
    "zeros = np.zeros((2,3))\n",
    "zeros"
   ]
  },
  {
   "cell_type": "markdown",
   "id": "eb927d5d",
   "metadata": {},
   "source": [
    "-use shift + tab into a function parentesis and jupyter will show a hint"
   ]
  },
  {
   "cell_type": "code",
   "execution_count": 26,
   "id": "e01d07e2",
   "metadata": {},
   "outputs": [
    {
     "data": {
      "text/plain": [
       "array([0, 2, 4, 6, 8])"
      ]
     },
     "execution_count": 26,
     "metadata": {},
     "output_type": "execute_result"
    }
   ],
   "source": [
    "range_array = np.arange(0, 10, 2) #start , finish, steps\n",
    "range_array"
   ]
  },
  {
   "cell_type": "code",
   "execution_count": 27,
   "id": "51639f4d",
   "metadata": {},
   "outputs": [
    {
     "data": {
      "text/plain": [
       "array([[9, 4, 3, 0],\n",
       "       [3, 5, 0, 2],\n",
       "       [3, 8, 1, 3]])"
      ]
     },
     "execution_count": 27,
     "metadata": {},
     "output_type": "execute_result"
    }
   ],
   "source": [
    "random_array = np.random.randint(0,10 , size=(3,4)) # randint = random of intiger , first the range of intigers then size of array\n",
    "random_array"
   ]
  },
  {
   "cell_type": "code",
   "execution_count": 28,
   "id": "be8ac5e7",
   "metadata": {},
   "outputs": [
    {
     "data": {
      "text/plain": [
       "(3, 4)"
      ]
     },
     "execution_count": 28,
     "metadata": {},
     "output_type": "execute_result"
    }
   ],
   "source": [
    "random_array.shape"
   ]
  },
  {
   "cell_type": "code",
   "execution_count": 29,
   "id": "c65301c6",
   "metadata": {},
   "outputs": [
    {
     "data": {
      "text/plain": [
       "array([[0.52047748, 0.67887953, 0.72063265],\n",
       "       [0.58201979, 0.53737323, 0.75861562],\n",
       "       [0.10590761, 0.47360042, 0.18633234],\n",
       "       [0.73691818, 0.21655035, 0.13521817],\n",
       "       [0.32414101, 0.14967487, 0.22232139]])"
      ]
     },
     "execution_count": 29,
     "metadata": {},
     "output_type": "execute_result"
    }
   ],
   "source": [
    "random2 = np.random.random((5,3))\n",
    "random2"
   ]
  },
  {
   "cell_type": "code",
   "execution_count": 30,
   "id": "ddb930cb",
   "metadata": {},
   "outputs": [
    {
     "data": {
      "text/plain": [
       "array([[0.5488135 , 0.71518937, 0.60276338, 0.54488318, 0.4236548 ],\n",
       "       [0.64589411, 0.43758721, 0.891773  , 0.96366276, 0.38344152],\n",
       "       [0.79172504, 0.52889492, 0.56804456, 0.92559664, 0.07103606]])"
      ]
     },
     "execution_count": 30,
     "metadata": {},
     "output_type": "execute_result"
    }
   ],
   "source": [
    "np.random.seed(seed=0)#creates a instance where all the values of random are the same every time the cell is run , so you can share the exact data\n",
    "random_array_3 = np.random.random((3,5))\n",
    "random_array_3"
   ]
  },
  {
   "cell_type": "code",
   "execution_count": 31,
   "id": "a5693e74",
   "metadata": {},
   "outputs": [
    {
     "data": {
      "text/plain": [
       "array([0, 2, 4, 6, 8])"
      ]
     },
     "execution_count": 31,
     "metadata": {},
     "output_type": "execute_result"
    }
   ],
   "source": [
    "np.unique(range_array)# shows the unique values of an array"
   ]
  },
  {
   "cell_type": "code",
   "execution_count": 32,
   "id": "3f96c79c",
   "metadata": {},
   "outputs": [
    {
     "data": {
      "text/plain": [
       "1"
      ]
     },
     "execution_count": 32,
     "metadata": {},
     "output_type": "execute_result"
    }
   ],
   "source": [
    "a1[0]"
   ]
  },
  {
   "cell_type": "code",
   "execution_count": 33,
   "id": "48a620bb",
   "metadata": {},
   "outputs": [
    {
     "data": {
      "text/plain": [
       "array([1, 2, 3])"
      ]
     },
     "execution_count": 33,
     "metadata": {},
     "output_type": "execute_result"
    }
   ],
   "source": [
    "a2[0]"
   ]
  },
  {
   "cell_type": "code",
   "execution_count": 34,
   "id": "6df85e78",
   "metadata": {},
   "outputs": [
    {
     "data": {
      "text/plain": [
       "array([[1, 2, 3],\n",
       "       [4, 5, 6],\n",
       "       [7, 8, 9]])"
      ]
     },
     "execution_count": 34,
     "metadata": {},
     "output_type": "execute_result"
    }
   ],
   "source": [
    "a3[0]"
   ]
  },
  {
   "cell_type": "code",
   "execution_count": 36,
   "id": "56f8d80c",
   "metadata": {},
   "outputs": [
    {
     "data": {
      "text/plain": [
       "array([[[ 1,  2],\n",
       "        [ 4,  5]],\n",
       "\n",
       "       [[10, 11],\n",
       "        [13, 14]]])"
      ]
     },
     "execution_count": 36,
     "metadata": {},
     "output_type": "execute_result"
    }
   ],
   "source": [
    "a3[:2, :2, :2] #first 2 values of each axis "
   ]
  },
  {
   "cell_type": "code",
   "execution_count": 38,
   "id": "8601db02",
   "metadata": {},
   "outputs": [
    {
     "data": {
      "text/plain": [
       "array([[[[3, 8, 2, 8, 4],\n",
       "         [3, 0, 4, 3, 6],\n",
       "         [9, 8, 0, 8, 5],\n",
       "         [9, 0, 9, 6, 5]],\n",
       "\n",
       "        [[3, 1, 8, 0, 4],\n",
       "         [9, 6, 5, 7, 8],\n",
       "         [8, 9, 2, 8, 6],\n",
       "         [6, 9, 1, 6, 8]],\n",
       "\n",
       "        [[8, 3, 2, 3, 6],\n",
       "         [3, 6, 5, 7, 0],\n",
       "         [8, 4, 6, 5, 8],\n",
       "         [2, 3, 9, 7, 5]]],\n",
       "\n",
       "\n",
       "       [[[3, 4, 5, 3, 3],\n",
       "         [7, 9, 9, 9, 7],\n",
       "         [3, 2, 3, 9, 7],\n",
       "         [7, 5, 1, 2, 2]],\n",
       "\n",
       "        [[8, 1, 5, 8, 4],\n",
       "         [0, 2, 5, 5, 0],\n",
       "         [8, 1, 1, 0, 3],\n",
       "         [8, 8, 4, 4, 0]],\n",
       "\n",
       "        [[9, 3, 7, 3, 2],\n",
       "         [1, 1, 2, 1, 4],\n",
       "         [2, 5, 5, 5, 2],\n",
       "         [5, 7, 7, 6, 1]]]])"
      ]
     },
     "execution_count": 38,
     "metadata": {},
     "output_type": "execute_result"
    }
   ],
   "source": [
    "a4 = np.random.randint(10,size=(2, 3, 4, 5)) # 5 columns , 4 rows, 3 group, 2 dimension\n",
    "a4"
   ]
  },
  {
   "cell_type": "code",
   "execution_count": 39,
   "id": "3a9acfef",
   "metadata": {},
   "outputs": [
    {
     "data": {
      "text/plain": [
       "((2, 3, 4, 5), 4)"
      ]
     },
     "execution_count": 39,
     "metadata": {},
     "output_type": "execute_result"
    }
   ],
   "source": [
    "a4.shape , a4.ndim"
   ]
  },
  {
   "cell_type": "code",
   "execution_count": 40,
   "id": "90101e9f",
   "metadata": {},
   "outputs": [
    {
     "data": {
      "text/plain": [
       "array([[[[3, 8, 2, 8],\n",
       "         [3, 0, 4, 3],\n",
       "         [9, 8, 0, 8],\n",
       "         [9, 0, 9, 6]],\n",
       "\n",
       "        [[3, 1, 8, 0],\n",
       "         [9, 6, 5, 7],\n",
       "         [8, 9, 2, 8],\n",
       "         [6, 9, 1, 6]],\n",
       "\n",
       "        [[8, 3, 2, 3],\n",
       "         [3, 6, 5, 7],\n",
       "         [8, 4, 6, 5],\n",
       "         [2, 3, 9, 7]]],\n",
       "\n",
       "\n",
       "       [[[3, 4, 5, 3],\n",
       "         [7, 9, 9, 9],\n",
       "         [3, 2, 3, 9],\n",
       "         [7, 5, 1, 2]],\n",
       "\n",
       "        [[8, 1, 5, 8],\n",
       "         [0, 2, 5, 5],\n",
       "         [8, 1, 1, 0],\n",
       "         [8, 8, 4, 4]],\n",
       "\n",
       "        [[9, 3, 7, 3],\n",
       "         [1, 1, 2, 1],\n",
       "         [2, 5, 5, 5],\n",
       "         [5, 7, 7, 6]]]])"
      ]
     },
     "execution_count": 40,
     "metadata": {},
     "output_type": "execute_result"
    }
   ],
   "source": [
    "# get the first 4 numbers of the inner most array\n",
    "a4[:, :, :, :4] # the last is the inner part (columns)"
   ]
  },
  {
   "cell_type": "code",
   "execution_count": 48,
   "id": "4c5f679f",
   "metadata": {},
   "outputs": [
    {
     "data": {
      "text/plain": [
       "array([[[[3, 8, 2, 8],\n",
       "         [3, 0, 4, 3],\n",
       "         [9, 8, 0, 8],\n",
       "         [9, 0, 9, 6]],\n",
       "\n",
       "        [[3, 1, 8, 0],\n",
       "         [9, 6, 5, 7],\n",
       "         [8, 9, 2, 8],\n",
       "         [6, 9, 1, 6]],\n",
       "\n",
       "        [[8, 3, 2, 3],\n",
       "         [3, 6, 5, 7],\n",
       "         [8, 4, 6, 5],\n",
       "         [2, 3, 9, 7]]]])"
      ]
     },
     "execution_count": 48,
     "metadata": {},
     "output_type": "execute_result"
    }
   ],
   "source": [
    "a4[:1, :,:, :4] # change parameters "
   ]
  },
  {
   "cell_type": "code",
   "execution_count": 51,
   "id": "e2015104",
   "metadata": {},
   "outputs": [
    {
     "data": {
      "text/plain": [
       "array([[[[4, 4, 5, 8, 8],\n",
       "         [0, 1, 5, 9, 9],\n",
       "         [6, 1, 4, 0, 4],\n",
       "         [7, 7, 7, 6, 2]],\n",
       "\n",
       "        [[6, 0, 2, 7, 7],\n",
       "         [2, 6, 1, 3, 7],\n",
       "         [0, 5, 4, 5, 5],\n",
       "         [3, 8, 0, 1, 5]]],\n",
       "\n",
       "\n",
       "       [[[4, 1, 5, 0, 6],\n",
       "         [8, 8, 6, 3, 4],\n",
       "         [4, 3, 6, 5, 9],\n",
       "         [8, 1, 3, 8, 1]],\n",
       "\n",
       "        [[5, 8, 0, 3, 7],\n",
       "         [1, 7, 8, 0, 7],\n",
       "         [5, 9, 9, 6, 8],\n",
       "         [7, 5, 9, 1, 0]]],\n",
       "\n",
       "\n",
       "       [[[0, 5, 6, 3, 6],\n",
       "         [1, 7, 7, 0, 7],\n",
       "         [6, 0, 4, 2, 7],\n",
       "         [5, 2, 8, 5, 6]],\n",
       "\n",
       "        [[6, 4, 1, 5, 4],\n",
       "         [5, 5, 6, 3, 8],\n",
       "         [1, 4, 2, 9, 7],\n",
       "         [4, 1, 8, 2, 3]]]])"
      ]
     },
     "execution_count": 51,
     "metadata": {},
     "output_type": "execute_result"
    }
   ],
   "source": [
    "a5 = np.random.randint(10,size=(3, 2, 4, 5))\n",
    "a5"
   ]
  },
  {
   "cell_type": "code",
   "execution_count": 54,
   "id": "ee1f7d2d",
   "metadata": {},
   "outputs": [
    {
     "data": {
      "text/plain": [
       "array([[[[[7, 0, 8, 1, 2],\n",
       "          [8, 5, 8, 2, 1],\n",
       "          [3, 5, 0, 2, 5],\n",
       "          [8, 6, 2, 7, 7]],\n",
       "\n",
       "         [[1, 8, 4, 9, 3],\n",
       "          [3, 2, 9, 0, 4],\n",
       "          [6, 4, 3, 2, 3],\n",
       "          [1, 1, 2, 7, 2]]],\n",
       "\n",
       "\n",
       "        [[[7, 0, 1, 8, 0],\n",
       "          [5, 2, 8, 0, 4],\n",
       "          [0, 3, 8, 1, 6],\n",
       "          [4, 6, 9, 6, 4]],\n",
       "\n",
       "         [[7, 2, 9, 8, 0],\n",
       "          [8, 6, 2, 6, 9],\n",
       "          [5, 3, 7, 8, 3],\n",
       "          [8, 8, 9, 9, 4]]],\n",
       "\n",
       "\n",
       "        [[[4, 1, 0, 7, 6],\n",
       "          [2, 1, 0, 6, 1],\n",
       "          [6, 7, 1, 5, 2],\n",
       "          [0, 2, 6, 6, 3]],\n",
       "\n",
       "         [[5, 4, 7, 3, 2],\n",
       "          [6, 9, 1, 5, 1],\n",
       "          [9, 3, 1, 0, 7],\n",
       "          [3, 9, 6, 4, 4]]]],\n",
       "\n",
       "\n",
       "\n",
       "       [[[[3, 5, 4, 4, 9],\n",
       "          [0, 0, 9, 5, 0],\n",
       "          [6, 3, 8, 9, 6],\n",
       "          [2, 1, 7, 7, 6]],\n",
       "\n",
       "         [[7, 5, 9, 8, 8],\n",
       "          [1, 4, 6, 4, 2],\n",
       "          [7, 8, 5, 7, 9],\n",
       "          [9, 6, 9, 9, 3]]],\n",
       "\n",
       "\n",
       "        [[[9, 3, 7, 2, 8],\n",
       "          [1, 3, 2, 1, 7],\n",
       "          [8, 7, 5, 7, 7],\n",
       "          [1, 5, 6, 5, 8]],\n",
       "\n",
       "         [[8, 1, 5, 2, 9],\n",
       "          [5, 1, 8, 1, 7],\n",
       "          [8, 5, 0, 1, 9],\n",
       "          [5, 1, 4, 9, 8]]],\n",
       "\n",
       "\n",
       "        [[[2, 8, 3, 3, 7],\n",
       "          [4, 8, 3, 3, 1],\n",
       "          [7, 5, 5, 7, 7],\n",
       "          [3, 2, 1, 2, 9]],\n",
       "\n",
       "         [[5, 8, 8, 8, 2],\n",
       "          [2, 8, 4, 1, 1],\n",
       "          [0, 2, 1, 7, 0],\n",
       "          [2, 9, 3, 4, 9]]]]])"
      ]
     },
     "execution_count": 54,
     "metadata": {},
     "output_type": "execute_result"
    }
   ],
   "source": [
    "a6 = np.random.randint(10,size=(2, 3, 2, 4, 5))\n",
    "a6"
   ]
  },
  {
   "cell_type": "code",
   "execution_count": null,
   "id": "74473d8f",
   "metadata": {},
   "outputs": [],
   "source": []
  }
 ],
 "metadata": {
  "kernelspec": {
   "display_name": "Python 3 (ipykernel)",
   "language": "python",
   "name": "python3"
  },
  "language_info": {
   "codemirror_mode": {
    "name": "ipython",
    "version": 3
   },
   "file_extension": ".py",
   "mimetype": "text/x-python",
   "name": "python",
   "nbconvert_exporter": "python",
   "pygments_lexer": "ipython3",
   "version": "3.9.7"
  }
 },
 "nbformat": 4,
 "nbformat_minor": 5
}
