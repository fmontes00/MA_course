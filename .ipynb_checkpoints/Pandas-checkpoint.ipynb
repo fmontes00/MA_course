{
 "cells": [
  {
   "cell_type": "code",
   "execution_count": null,
   "id": "d1ab3d60",
   "metadata": {},
   "outputs": [],
   "source": [
    "import pandas as pd"
   ]
  },
  {
   "cell_type": "code",
   "execution_count": 1,
   "id": "03621799",
   "metadata": {},
   "outputs": [],
   "source": [
    "#series: single column , use a list"
   ]
  },
  {
   "cell_type": "code",
   "execution_count": null,
   "id": "690802cc",
   "metadata": {},
   "outputs": [
    {
     "name": "stdout",
     "output_type": "stream",
     "text": [
      "ERROR! Session/line number was not unique in database. History logging moved to new session 292\n"
     ]
    }
   ],
   "source": [
    "series = pd.Series([\"bmw\",\"toyota\",\"audi\"])"
   ]
  },
  {
   "cell_type": "code",
   "execution_count": null,
   "id": "a64c3a51",
   "metadata": {},
   "outputs": [],
   "source": [
    "series"
   ]
  },
  {
   "cell_type": "code",
   "execution_count": null,
   "id": "b63f69cf",
   "metadata": {},
   "outputs": [
    {
     "name": "stdout",
     "output_type": "stream",
     "text": [
      "ERROR! Session/line number was not unique in database. History logging moved to new session 293\n"
     ]
    }
   ],
   "source": [
    "colors = pd.Series([\"red\", \"blue\", \"green\"]) "
   ]
  },
  {
   "cell_type": "code",
   "execution_count": 2,
   "id": "308f6576",
   "metadata": {},
   "outputs": [
    {
     "name": "stdout",
     "output_type": "stream",
     "text": [
      "ERROR! Session/line number was not unique in database. History logging moved to new session 294\n"
     ]
    },
    {
     "name": "stderr",
     "output_type": "stream",
     "text": [
      "UsageError: %colors: you must specify a color scheme. See '%colors?'\n"
     ]
    }
   ],
   "source": [
    "colors"
   ]
  },
  {
   "cell_type": "code",
   "execution_count": null,
   "id": "457a4862",
   "metadata": {},
   "outputs": [],
   "source": [
    "#Data frame: two dimensional array (can use Serires to fill it), use a dictionary"
   ]
  },
  {
   "cell_type": "code",
   "execution_count": null,
   "id": "c2d0060a",
   "metadata": {},
   "outputs": [],
   "source": [
    "car_data = pd.DataFrame({\"car brand\": series,\n",
    "                        \"car colour\": colors})"
   ]
  },
  {
   "cell_type": "code",
   "execution_count": null,
   "id": "fb9752d7",
   "metadata": {},
   "outputs": [],
   "source": [
    "car_data"
   ]
  },
  {
   "cell_type": "code",
   "execution_count": null,
   "id": "c794d592",
   "metadata": {},
   "outputs": [],
   "source": [
    "#import data from a csv file\n",
    "car_sales = pd.read_csv(\"7.1 car-sales.csv\")\n",
    "car_sales"
   ]
  },
  {
   "cell_type": "code",
   "execution_count": null,
   "id": "e9bcaec5",
   "metadata": {},
   "outputs": [],
   "source": [
    "#exporting data from jupyter notebook\n",
    "car_sales.to_csv(\"exported_car_sales.csv\")"
   ]
  },
  {
   "cell_type": "code",
   "execution_count": null,
   "id": "8933a2a9",
   "metadata": {},
   "outputs": [],
   "source": [
    "reimported_car_sales = pd.read_csv(\"exported_car_sales.csv\", index_col=False)\n",
    "reimported_car_sales"
   ]
  },
  {
   "cell_type": "code",
   "execution_count": null,
   "id": "e3e4ad36",
   "metadata": {},
   "outputs": [],
   "source": [
    "#exporting data from jupyter notebook and deleting extra index column\n",
    "car_sales.to_csv(\"exported_car_sales2.csv\", index=False)\n",
    "exported_car_sales2 = pd.read_csv(\"exported_car_sales2.csv\")\n",
    "exported_car_sales2\n"
   ]
  },
  {
   "cell_type": "markdown",
   "id": "20fc4ca7",
   "metadata": {},
   "source": [
    "## Describeing Data"
   ]
  },
  {
   "cell_type": "code",
   "execution_count": null,
   "id": "63ffbfe0",
   "metadata": {},
   "outputs": [],
   "source": [
    "car_sales.dtypes"
   ]
  },
  {
   "cell_type": "code",
   "execution_count": null,
   "id": "3abde1d7",
   "metadata": {},
   "outputs": [],
   "source": [
    "car_sales.columns"
   ]
  },
  {
   "cell_type": "code",
   "execution_count": null,
   "id": "e10c2a28",
   "metadata": {},
   "outputs": [],
   "source": [
    "car_sales.index"
   ]
  },
  {
   "cell_type": "code",
   "execution_count": null,
   "id": "c1b747f7",
   "metadata": {},
   "outputs": [],
   "source": [
    "car_sales.describe()\n",
    "#gives statistical info about numeric(int) columns"
   ]
  },
  {
   "cell_type": "code",
   "execution_count": null,
   "id": "6637c6b5",
   "metadata": {},
   "outputs": [],
   "source": [
    "car_sales.info()"
   ]
  },
  {
   "cell_type": "code",
   "execution_count": null,
   "id": "3f9105c7",
   "metadata": {},
   "outputs": [],
   "source": [
    "car_sales.mean()"
   ]
  },
  {
   "cell_type": "code",
   "execution_count": null,
   "id": "e8f3d754",
   "metadata": {},
   "outputs": [],
   "source": [
    "car_sales.sum()"
   ]
  },
  {
   "cell_type": "code",
   "execution_count": null,
   "id": "1ecddfd8",
   "metadata": {},
   "outputs": [],
   "source": [
    "car_sales[\"Doors\"].sum()"
   ]
  },
  {
   "cell_type": "code",
   "execution_count": null,
   "id": "9d997ab1",
   "metadata": {},
   "outputs": [],
   "source": [
    "len(car_sales)"
   ]
  },
  {
   "cell_type": "markdown",
   "id": "45a82185",
   "metadata": {},
   "source": [
    "## Viewing and selecting data"
   ]
  },
  {
   "cell_type": "code",
   "execution_count": null,
   "id": "72fe8e3d",
   "metadata": {},
   "outputs": [],
   "source": [
    "#return top five rows of dataFrame\n",
    "car_sales.head()"
   ]
  },
  {
   "cell_type": "code",
   "execution_count": null,
   "id": "ace7f808",
   "metadata": {},
   "outputs": [],
   "source": [
    "car_sales.head(7) # pass a int parameter to determinate number of rows"
   ]
  },
  {
   "cell_type": "code",
   "execution_count": null,
   "id": "79c8050d",
   "metadata": {},
   "outputs": [],
   "source": [
    "#return bottom five rows\n",
    "car_sales.tail()"
   ]
  },
  {
   "cell_type": "code",
   "execution_count": null,
   "id": "52e3f211",
   "metadata": {},
   "outputs": [],
   "source": [
    "car_sales.tail(7) #pass int parameter to determinate number of rows"
   ]
  },
  {
   "cell_type": "code",
   "execution_count": null,
   "id": "ce13fe8b",
   "metadata": {},
   "outputs": [],
   "source": [
    "# .loc referes to location(index can be changed) , .iloc referes to position (static index)\n",
    "animals= pd.Series([\"cat\",\"dog\", \"bird\", \"panda\", \"sanke\"], index=[0,3,9,8,3])\n",
    "animals"
   ]
  },
  {
   "cell_type": "code",
   "execution_count": null,
   "id": "2e4a3246",
   "metadata": {},
   "outputs": [],
   "source": [
    "animals.loc[3]"
   ]
  },
  {
   "cell_type": "code",
   "execution_count": null,
   "id": "1fdab1fc",
   "metadata": {},
   "outputs": [],
   "source": [
    "animals.loc[9]"
   ]
  },
  {
   "cell_type": "code",
   "execution_count": null,
   "id": "bd3f803f",
   "metadata": {},
   "outputs": [],
   "source": [
    "animals.iloc[3]"
   ]
  },
  {
   "cell_type": "code",
   "execution_count": null,
   "id": "f78ff3e7",
   "metadata": {},
   "outputs": [],
   "source": [
    "car_sales.loc[3]  #returns an object"
   ]
  },
  {
   "cell_type": "code",
   "execution_count": null,
   "id": "7c314637",
   "metadata": {},
   "outputs": [],
   "source": [
    "car_sales.iloc[3]"
   ]
  },
  {
   "cell_type": "code",
   "execution_count": null,
   "id": "4471acc2",
   "metadata": {},
   "outputs": [],
   "source": [
    "animals"
   ]
  },
  {
   "cell_type": "code",
   "execution_count": null,
   "id": "8794cb65",
   "metadata": {},
   "outputs": [],
   "source": [
    "animals.iloc[:3] # return the first 3 elements"
   ]
  },
  {
   "cell_type": "code",
   "execution_count": null,
   "id": "804821ca",
   "metadata": {},
   "outputs": [],
   "source": [
    "car_sales.loc[:3] #in a dataframe loc returns all the elements up to the index 3"
   ]
  },
  {
   "cell_type": "code",
   "execution_count": null,
   "id": "f5700c3a",
   "metadata": {},
   "outputs": [],
   "source": [
    "car_sales.iloc[:3] # in a dataframe iloc returns all the first 3 elements (start counting from 0)"
   ]
  },
  {
   "cell_type": "code",
   "execution_count": null,
   "id": "baa26879",
   "metadata": {},
   "outputs": [],
   "source": [
    "car_sales[\"Make\"] #select an individual column"
   ]
  },
  {
   "cell_type": "code",
   "execution_count": null,
   "id": "83d84f6a",
   "metadata": {},
   "outputs": [],
   "source": [
    "car_sales.Make#select an individual column (doesnt work with spaces el: odometer km)"
   ]
  },
  {
   "cell_type": "code",
   "execution_count": null,
   "id": "69be54c8",
   "metadata": {},
   "outputs": [],
   "source": [
    "car_sales[car_sales[\"Make\"]== \"Toyota\"] #boolean indexing , pass a condition to filter a column"
   ]
  },
  {
   "cell_type": "code",
   "execution_count": null,
   "id": "30b56906",
   "metadata": {},
   "outputs": [],
   "source": [
    "car_sales[car_sales[\"Odometer (KM)\"] > 100000]"
   ]
  },
  {
   "cell_type": "code",
   "execution_count": null,
   "id": "adb723da",
   "metadata": {},
   "outputs": [],
   "source": [
    "pd.crosstab(car_sales[\"Doors\"], car_sales[\"Make\"]) #compare the two given columns "
   ]
  },
  {
   "cell_type": "code",
   "execution_count": null,
   "id": "761e4590",
   "metadata": {},
   "outputs": [],
   "source": [
    "car_sales.groupby([\"Make\"]).mean() #mean amount of valid values of a \"make\" , in this case  only doors and odometer"
   ]
  },
  {
   "cell_type": "code",
   "execution_count": null,
   "id": "7715196e",
   "metadata": {},
   "outputs": [],
   "source": [
    "car_sales[\"Odometer (KM)\"].plot()"
   ]
  },
  {
   "cell_type": "code",
   "execution_count": null,
   "id": "66a5955c",
   "metadata": {},
   "outputs": [],
   "source": [
    "car_sales[\"Odometer (KM)\"].hist()"
   ]
  },
  {
   "cell_type": "code",
   "execution_count": null,
   "id": "6adb7da5",
   "metadata": {},
   "outputs": [],
   "source": [
    "car_sales"
   ]
  },
  {
   "cell_type": "code",
   "execution_count": null,
   "id": "0d9bb8f8",
   "metadata": {},
   "outputs": [],
   "source": []
  },
  {
   "cell_type": "code",
   "execution_count": null,
   "id": "8469acec",
   "metadata": {},
   "outputs": [],
   "source": [
    "car_sales[\"Price\"].dtype"
   ]
  },
  {
   "cell_type": "code",
   "execution_count": null,
   "id": "7beec98f",
   "metadata": {},
   "outputs": [],
   "source": [
    "#car_sales[\"Price\"] = car_sales.Price.str.replace(\"[\\$\\,\\.]\",'').astype(int)\n",
    "\n",
    "\n",
    "car_sales[\"Price\"] = car_sales[\"Price\"].str.replace('[\\$\\,\\.]','').astype(int)\n"
   ]
  },
  {
   "cell_type": "code",
   "execution_count": null,
   "id": "922ed339",
   "metadata": {},
   "outputs": [],
   "source": [
    "# Remove the two extra zeros at the end of the price column\n",
    "car_sales[\"Price\"] = car_sales[\"Price\"].str[:-2]"
   ]
  },
  {
   "cell_type": "code",
   "execution_count": null,
   "id": "b09021a0",
   "metadata": {},
   "outputs": [],
   "source": [
    "car_sales"
   ]
  },
  {
   "cell_type": "markdown",
   "id": "ca0daea9",
   "metadata": {},
   "source": [
    "## Manipulating Data"
   ]
  },
  {
   "cell_type": "code",
   "execution_count": null,
   "id": "727195f1",
   "metadata": {},
   "outputs": [],
   "source": [
    "car_sales[\"Make\"].str.lower()"
   ]
  },
  {
   "cell_type": "code",
   "execution_count": null,
   "id": "8ed7c595",
   "metadata": {},
   "outputs": [],
   "source": [
    "car_sales"
   ]
  },
  {
   "cell_type": "code",
   "execution_count": null,
   "id": "08745afe",
   "metadata": {},
   "outputs": [],
   "source": [
    "car_sales[\"Make\"] = car_sales[\"Make\"].str.lower() #reasignemt proces to a variable,  if not the next call of car sales will not implement lower()"
   ]
  },
  {
   "cell_type": "code",
   "execution_count": null,
   "id": "6941f70c",
   "metadata": {},
   "outputs": [],
   "source": [
    "car_sales"
   ]
  },
  {
   "cell_type": "code",
   "execution_count": null,
   "id": "d6e25934",
   "metadata": {},
   "outputs": [],
   "source": [
    "car_sales_missing = pd.read_csv(\"9.2 car-sales-missing-data.csv\")\n",
    "car_sales_missing"
   ]
  },
  {
   "cell_type": "code",
   "execution_count": null,
   "id": "43eb015f",
   "metadata": {},
   "outputs": [],
   "source": [
    "car_sales_missing[\"Odometer\"].mean()"
   ]
  },
  {
   "cell_type": "code",
   "execution_count": null,
   "id": "a720975e",
   "metadata": {},
   "outputs": [],
   "source": [
    "car_sales_missing[\"Odometer\"].fillna(car_sales_missing[\"Odometer\"].mean()) #replace the nan value with the mean value of odometer"
   ]
  },
  {
   "cell_type": "code",
   "execution_count": null,
   "id": "30cc1cb2",
   "metadata": {},
   "outputs": [],
   "source": [
    "car_sales_missing[\"Odometer\"]"
   ]
  },
  {
   "cell_type": "code",
   "execution_count": null,
   "id": "4ab7f2be",
   "metadata": {},
   "outputs": [],
   "source": [
    "car_sales_missing[\"Odometer\"].fillna(car_sales_missing[\"Odometer\"].mean(), inplace=True)\n",
    "#the inplace parameter allows to asign and save the changes of fillna, you can also omitt the inplace and reasign the proces to a new variable"
   ]
  },
  {
   "cell_type": "code",
   "execution_count": null,
   "id": "a9a6f7cb",
   "metadata": {},
   "outputs": [],
   "source": [
    "car_sales_missing"
   ]
  },
  {
   "cell_type": "code",
   "execution_count": null,
   "id": "83ce0aba",
   "metadata": {},
   "outputs": [],
   "source": [
    "car_sales_missing.dropna() #excludes all the nan rows"
   ]
  },
  {
   "cell_type": "code",
   "execution_count": null,
   "id": "ab142cbd",
   "metadata": {},
   "outputs": [],
   "source": [
    "car_sales_missing.dropna(inplace = True)"
   ]
  },
  {
   "cell_type": "code",
   "execution_count": null,
   "id": "3f3f01ab",
   "metadata": {},
   "outputs": [],
   "source": [
    "car_sales_missing_drop"
   ]
  },
  {
   "cell_type": "code",
   "execution_count": null,
   "id": "30434069",
   "metadata": {},
   "outputs": [],
   "source": [
    "car_sales_missing"
   ]
  },
  {
   "cell_type": "code",
   "execution_count": null,
   "id": "f0c8c32f",
   "metadata": {},
   "outputs": [],
   "source": [
    "car_sales_missing_drop = pd.read_csv(\"9.2 car-sales-missing-data.csv\")"
   ]
  },
  {
   "cell_type": "code",
   "execution_count": null,
   "id": "124eb270",
   "metadata": {},
   "outputs": [],
   "source": [
    "car_sales_missing_drop"
   ]
  },
  {
   "cell_type": "code",
   "execution_count": null,
   "id": "b913a381",
   "metadata": {},
   "outputs": [],
   "source": [
    "car_sales_missing_droped = car_sales_missing_drop.dropna()\n",
    "car_sales_missing_droped"
   ]
  },
  {
   "cell_type": "code",
   "execution_count": null,
   "id": "1db5ca36",
   "metadata": {},
   "outputs": [],
   "source": [
    "car_sales_missing_drop"
   ]
  },
  {
   "cell_type": "code",
   "execution_count": null,
   "id": "cd6f31a4",
   "metadata": {},
   "outputs": [],
   "source": [
    "car_sales_missing_droped.to_csv(\"car_sales_missing_droped.csv\")"
   ]
  },
  {
   "cell_type": "markdown",
   "id": "9f5fbee8",
   "metadata": {},
   "source": [
    "## Adding Data"
   ]
  },
  {
   "cell_type": "code",
   "execution_count": null,
   "id": "49c603cc",
   "metadata": {},
   "outputs": [],
   "source": [
    "#create a column from a series\n",
    "seats_columns =pd.Series([5,4,6,3,7])\n",
    "seats_columns"
   ]
  },
  {
   "cell_type": "code",
   "execution_count": null,
   "id": "17985c59",
   "metadata": {},
   "outputs": [],
   "source": [
    "#add the series column to a dataset\n",
    "car_sales[\"Seats\"]= seats_columns\n",
    "# if the len of the series doesnt match the len of the dataset it will be automatically filled with nan"
   ]
  },
  {
   "cell_type": "code",
   "execution_count": null,
   "id": "25408d3a",
   "metadata": {},
   "outputs": [],
   "source": [
    "car_sales"
   ]
  },
  {
   "cell_type": "code",
   "execution_count": null,
   "id": "70ef4261",
   "metadata": {},
   "outputs": [],
   "source": [
    "car_sales[\"Seats\"].fillna(8, inplace=True)"
   ]
  },
  {
   "cell_type": "code",
   "execution_count": null,
   "id": "96d6347a",
   "metadata": {},
   "outputs": [],
   "source": [
    "car_sales"
   ]
  },
  {
   "cell_type": "code",
   "execution_count": null,
   "id": "6cb111b4",
   "metadata": {},
   "outputs": [],
   "source": [
    "#column from a python list , the list len must be the same as the dataSet\n",
    "fuel_economy = [2.1, 3.5, 6.8,7.7, 5.3,6.4, 9.0, 4.2, 8.1,9.9]\n",
    "car_sales[\"fuel per 100KM\"] = fuel_economy"
   ]
  },
  {
   "cell_type": "code",
   "execution_count": null,
   "id": "445077ea",
   "metadata": {},
   "outputs": [],
   "source": [
    "car_sales"
   ]
  },
  {
   "cell_type": "code",
   "execution_count": null,
   "id": "add2ede7",
   "metadata": {},
   "outputs": [],
   "source": [
    "car_sales[\"total fuel used\"]= car_sales[\"Odometer (KM)\"]/100 * car_sales[\"fuel per 100KM\"]"
   ]
  },
  {
   "cell_type": "code",
   "execution_count": null,
   "id": "c526ba53",
   "metadata": {},
   "outputs": [],
   "source": [
    "car_sales"
   ]
  },
  {
   "cell_type": "code",
   "execution_count": null,
   "id": "aad482b8",
   "metadata": {},
   "outputs": [],
   "source": [
    "car_sales[\"total fuel used (L)\"]= car_sales[\"Odometer (KM)\"]/100 * car_sales[\"fuel per 100KM\"]"
   ]
  },
  {
   "cell_type": "code",
   "execution_count": null,
   "id": "5ed858c7",
   "metadata": {},
   "outputs": [],
   "source": [
    "car_sales"
   ]
  },
  {
   "cell_type": "code",
   "execution_count": null,
   "id": "dd910247",
   "metadata": {},
   "outputs": [],
   "source": [
    "#to drop a column use .drop and axis=1 , for rows axis=0 (error below is because it alredy drop the column and cant find it anymore)\n",
    "car_sales = car_sales.drop(\"total fuel used\",axis=1)\n",
    "car_sales"
   ]
  },
  {
   "cell_type": "code",
   "execution_count": null,
   "id": "ed767e64",
   "metadata": {},
   "outputs": [],
   "source": [
    "car_sales"
   ]
  },
  {
   "cell_type": "code",
   "execution_count": null,
   "id": "2ca0747f",
   "metadata": {},
   "outputs": [],
   "source": [
    "car_sales_shuffled = car_sales.sample(frac=1) #mixt the rows (mantein the integity of the row but not the order of index)"
   ]
  },
  {
   "cell_type": "code",
   "execution_count": null,
   "id": "e68b31bf",
   "metadata": {},
   "outputs": [],
   "source": [
    "car_sales_shuffled"
   ]
  },
  {
   "cell_type": "code",
   "execution_count": null,
   "id": "eef41b6b",
   "metadata": {},
   "outputs": [],
   "source": [
    "car_sales_shuffled.reset_index(drop=True,inplace=True)# drop=true avoid addin a second index\n",
    "car_sales_shuffled"
   ]
  },
  {
   "cell_type": "code",
   "execution_count": null,
   "id": "f2fb8d91",
   "metadata": {},
   "outputs": [
    {
     "name": "stdout",
     "output_type": "stream",
     "text": [
      "ERROR! Session/line number was not unique in database. History logging moved to new session 295\n"
     ]
    }
   ],
   "source": [
    "car_sales[\"Odometer (KM)\"]= car_sales[\"Odometer (KM)\"].apply(lambda x : x / 1.6)\n",
    "car_sales"
   ]
  },
  {
   "cell_type": "code",
   "execution_count": null,
   "id": "2941692b",
   "metadata": {},
   "outputs": [],
   "source": []
  }
 ],
 "metadata": {
  "kernelspec": {
   "display_name": "Python 3 (ipykernel)",
   "language": "python",
   "name": "python3"
  },
  "language_info": {
   "codemirror_mode": {
    "name": "ipython",
    "version": 3
   },
   "file_extension": ".py",
   "mimetype": "text/x-python",
   "name": "python",
   "nbconvert_exporter": "python",
   "pygments_lexer": "ipython3",
   "version": "3.8.10"
  }
 },
 "nbformat": 4,
 "nbformat_minor": 5
}
